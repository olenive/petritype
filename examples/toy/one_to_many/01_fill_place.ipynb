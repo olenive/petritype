{
 "cells": [
  {
   "cell_type": "markdown",
   "id": "9318a45f",
   "metadata": {},
   "source": [
    "A simple example where a transition node converts one token to many tokens that are then put in the output place node.\n",
    "\n",
    "This example illustrates how given a transition function that returns a list of a type matching the place node,\n",
    "an individual token is created for each item in the list. For example, a token representing a bag of marbles is\n",
    "turned into many tokens representing individual marbles\n"
   ]
  },
  {
   "cell_type": "code",
   "execution_count": null,
   "id": "1d7a24db",
   "metadata": {},
   "outputs": [],
   "source": [
    "from petritype.core.executable_graph_components import (\n",
    "    ListPlaceNode, FunctionTransitionNode, ArgumentEdgeToTransition, ReturnedEdgeFromTransition,\n",
    "    ExecutableGraphOperations\n",
    ")"
   ]
  },
  {
   "cell_type": "code",
   "execution_count": null,
   "id": "4d75eeac",
   "metadata": {},
   "outputs": [],
   "source": [
    "from pydantic import BaseModel\n",
    "\n",
    "\n",
    "class Marble(BaseModel):\n",
    "    colour: str\n",
    "    number: int\n",
    "\n",
    "class BagOfMarbles(BaseModel):\n",
    "    contents: list[Marble]\n"
   ]
  },
  {
   "cell_type": "code",
   "execution_count": null,
   "id": "4715bb63",
   "metadata": {},
   "outputs": [],
   "source": [
    "def empty_out_bag(bag: BagOfMarbles) -> list[Marble]:\n",
    "    return bag.contents\n"
   ]
  },
  {
   "cell_type": "code",
   "execution_count": null,
   "id": "496c3d11",
   "metadata": {},
   "outputs": [],
   "source": [
    "bag_1 = BagOfMarbles(contents=[\n",
    "    Marble(colour=\"red\", number=1),\n",
    "    Marble(colour=\"blue\", number=2),\n",
    "    Marble(colour=\"green\", number=3),\n",
    "])"
   ]
  },
  {
   "cell_type": "code",
   "execution_count": null,
   "id": "0cbc26d2",
   "metadata": {},
   "outputs": [],
   "source": [
    "executable_graph_nodes_and_edges = [\n",
    "    ListPlaceNode(\"Box\", BagOfMarbles, tokens=[bag_1]),\n",
    "    ArgumentEdgeToTransition(\"Box\", \"Empty Marbles into Bowl\", \"bag\"),\n",
    "    FunctionTransitionNode(\"Empty Marbles into Bowl\", empty_out_bag),\n",
    "    ReturnedEdgeFromTransition(\"Empty Marbles into Bowl\", \"Bowl\"),\n",
    "    ListPlaceNode(\"Bowl\", Marble)\n",
    "]"
   ]
  },
  {
   "cell_type": "code",
   "execution_count": null,
   "id": "5d017ace",
   "metadata": {},
   "outputs": [],
   "source": [
    "executable_graph = ExecutableGraphOperations.construct_graph(executable_graph_nodes_and_edges)"
   ]
  },
  {
   "cell_type": "code",
   "execution_count": null,
   "id": "673c7e9a",
   "metadata": {},
   "outputs": [],
   "source": [
    "from petritype.core.rustworkx_graph import RustworkxGraph\n",
    "\n",
    "\n",
    "executable_pydigraph = RustworkxGraph.from_executable_graph(executable_graph)"
   ]
  },
  {
   "cell_type": "code",
   "execution_count": null,
   "id": "a764b968",
   "metadata": {},
   "outputs": [],
   "source": [
    "from petritype.plotting.simple_graphviz import SimpleGraphvizVisualization\n",
    "from IPython.display import display, clear_output\n",
    "\n",
    "display(SimpleGraphvizVisualization.graph(executable_pydigraph))"
   ]
  },
  {
   "cell_type": "code",
   "execution_count": null,
   "id": "19c64b92",
   "metadata": {},
   "outputs": [],
   "source": [
    "import time\n",
    "import matplotlib.pyplot as plt\n",
    "from IPython.display import display, clear_output\n",
    "from petritype.plotting.simple_graphviz import SimpleGraphvizVisualization\n",
    "\n",
    "async for step, diagram, transitions_fired in SimpleGraphvizVisualization.animate_execution_generator(\n",
    "    executable_graph=executable_graph,\n",
    "    executable_pydigraph=executable_pydigraph,\n",
    "):\n",
    "    clear_output(wait=True)\n",
    "    print(f\"Step {step}\")\n",
    "    display(diagram)\n",
    "    print(f\"Transitions fired: {transitions_fired}\")\n",
    "    if not transitions_fired:\n",
    "        print(\"No more transitions to fire. Execution complete.\")\n",
    "        break\n",
    "    time.sleep(1.0)\n",
    "    plt.close()"
   ]
  },
  {
   "cell_type": "code",
   "execution_count": null,
   "id": "a41d8ba2",
   "metadata": {},
   "outputs": [],
   "source": []
  },
  {
   "cell_type": "code",
   "execution_count": null,
   "id": "8ed09b28",
   "metadata": {},
   "outputs": [],
   "source": []
  },
  {
   "cell_type": "code",
   "execution_count": null,
   "id": "cd7cfbe3",
   "metadata": {},
   "outputs": [],
   "source": []
  }
 ],
 "metadata": {
  "kernelspec": {
   "display_name": "petritype",
   "language": "python",
   "name": "python3"
  },
  "language_info": {
   "codemirror_mode": {
    "name": "ipython",
    "version": 3
   },
   "file_extension": ".py",
   "mimetype": "text/x-python",
   "name": "python",
   "nbconvert_exporter": "python",
   "pygments_lexer": "ipython3",
   "version": "3.12.2"
  }
 },
 "nbformat": 4,
 "nbformat_minor": 5
}
